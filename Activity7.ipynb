{
 "cells": [
  {
   "cell_type": "code",
   "execution_count": null,
   "id": "9f552722-af58-4131-ba3c-1f121c76c708",
   "metadata": {},
   "outputs": [],
   "source": [
    "import pandas as pd\n",
    "myDataset = pd.read_csv('C:/Users/Laptop C/Downloads/dataset - 2020-09-24.csv')\n",
    "print(myDataset)\n",
    "\n",
    "import seaborn as sns\n",
    "import matplotlib.pyplot as plt\n",
    "\n",
    "sns.set_context(\"talk\")\n",
    "sns.set_theme()\n",
    "sns.set_style(\"whitegrid\")\n",
    "sns.lineplot(x=\"Position\", y=\"Goals\", data=myDataset)\n",
    "plt.show()\n",
    "\n",
    "sns.lineplot(x=\"Clean sheets\", y=\"Goals\", data=myDataset)\n",
    "plt.show()\n",
    "\n",
    "\n",
    "sns.displot(myDataset['Age'])\n",
    "sns.kdeplot(data=myDataset['Age'], \n",
    "fill=True)\n",
    "\n",
    "sns.rugplot(myDataset['Age'])\n",
    "sns.boxplot(x='Position', y='Goals', data=myDataset)\n",
    "sns.violinplot(x='Position', y='Goals', data=myDataset)\n",
    "sns.swarmplot(x=\"Position\", y='Goals', data=myDataset)\n",
    "sns.pairplot(myDataset, hue='Position')\n",
    "sns.jointplot(x='Position', y='Position', data=myDataset, \n",
    "kind='scatter')"
   ]
  },
  {
   "cell_type": "code",
   "execution_count": null,
   "id": "4460c3f1-beeb-4cd4-8a46-21a13c3cedc0",
   "metadata": {},
   "outputs": [],
   "source": []
  }
 ],
 "metadata": {
  "kernelspec": {
   "display_name": "Python 3 (ipykernel)",
   "language": "python",
   "name": "python3"
  },
  "language_info": {
   "codemirror_mode": {
    "name": "ipython",
    "version": 3
   },
   "file_extension": ".py",
   "mimetype": "text/x-python",
   "name": "python",
   "nbconvert_exporter": "python",
   "pygments_lexer": "ipython3",
   "version": "3.12.3"
  }
 },
 "nbformat": 4,
 "nbformat_minor": 5
}
